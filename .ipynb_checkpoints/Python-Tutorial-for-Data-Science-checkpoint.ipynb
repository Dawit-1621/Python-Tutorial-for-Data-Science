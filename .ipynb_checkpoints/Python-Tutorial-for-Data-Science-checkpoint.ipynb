{
 "cells": [
  {
   "cell_type": "markdown",
   "id": "b2128f8f",
   "metadata": {},
   "source": [
    "# Python Tutorial for Data Science"
   ]
  },
  {
   "cell_type": "markdown",
   "id": "4c0a3e33",
   "metadata": {},
   "source": [
    "Tutorial Outlines\n",
    "* Introduction to NumPy\n",
    "* Data Manipulation with Pandas\n",
    "* Visualization with Matplotlib\n",
    "* Machine Learning"
   ]
  },
  {
   "cell_type": "markdown",
   "id": "f2efe074",
   "metadata": {},
   "source": [
    "# 1. Introduction to NumPy\n"
   ]
  },
  {
   "cell_type": "code",
   "execution_count": null,
   "id": "a6416b58",
   "metadata": {},
   "outputs": [],
   "source": []
  }
 ],
 "metadata": {
  "kernelspec": {
   "display_name": "Python 3",
   "language": "python",
   "name": "python3"
  },
  "language_info": {
   "codemirror_mode": {
    "name": "ipython",
    "version": 3
   },
   "file_extension": ".py",
   "mimetype": "text/x-python",
   "name": "python",
   "nbconvert_exporter": "python",
   "pygments_lexer": "ipython3",
   "version": "3.8.8"
  }
 },
 "nbformat": 4,
 "nbformat_minor": 5
}
